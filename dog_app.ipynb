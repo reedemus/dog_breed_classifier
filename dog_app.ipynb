{
 "cells": [
  {
   "cell_type": "markdown",
   "metadata": {
    "id": "zkRhjEX2a0uK"
   },
   "source": [
    "# Convolutional Neural Networks\n",
    "\n",
    "## Project: Write an Algorithm for a Dog Identification App [![Open In Colab](https://colab.research.google.com/assets/colab-badge.svg)](https://colab.research.google.com/github/reedemus/dog_breed_classifier/blob/master/dog_app.ipynb)\n",
    "---\n",
    "In this notebook, some template code has already been provided for you, and you will need to implement additional functionality to successfully complete this project. You will not need to modify the included code beyond what is requested. Sections that begin with **'(IMPLEMENTATION)'** in the header indicate that the following block of code will require additional functionality which you must provide. Instructions will be provided for each section, and the specifics of the implementation are marked in the code block with a 'TODO' statement. Please be sure to read the instructions carefully! \n",
    "\n",
    "> **Note**: Once you have completed all of the code implementations, you need to finalize your work by exporting the Jupyter Notebook as an HTML document. Before exporting the notebook to html, all of the code cells need to have been run so that reviewers can see the final implementation and output. You can then export the notebook by using the menu above and navigating to **File -> Download as -> HTML (.html)**. Include the finished document along with this notebook as your submission.\n",
    "\n",
    "In addition to implementing code, there will be questions that you must answer which relate to the project and your implementation. Each section where you will answer a question is preceded by a **'Question X'** header. Carefully read each question and provide thorough answers in the following text boxes that begin with **'Answer:'**. Your project submission will be evaluated based on your answers to each of the questions and the implementation you provide.\n",
    "\n",
    ">**Note:** Code and Markdown cells can be executed using the **Shift + Enter** keyboard shortcut.  Markdown cells can be edited by double-clicking the cell to enter edit mode.\n",
    "\n",
    "The rubric contains _optional_ \"Stand Out Suggestions\" for enhancing the project beyond the minimum requirements. If you decide to pursue the \"Stand Out Suggestions\", you should include the code in this Jupyter notebook.\n",
    "\n",
    "\n",
    "\n",
    "---\n",
    "### Why We're Here \n",
    "\n",
    "In this notebook, you will make the first steps towards developing an algorithm that could be used as part of a mobile or web app.  At the end of this project, your code will accept any user-supplied image as input.  If a dog is detected in the image, it will provide an estimate of the dog's breed.  If a human is detected, it will provide an estimate of the dog breed that is most resembling.  The image below displays potential sample output of your finished project (... but we expect that each student's algorithm will behave differently!). \n",
    "\n",
    "![Sample Dog Output](https://github.com/reedemus/dog_breed_classifier/blob/transfer-learning/images/sample_dog_output.png?raw=1)\n",
    "\n",
    "In this real-world setting, you will need to piece together a series of models to perform different tasks; for instance, the algorithm that detects humans in an image will be different from the CNN that infers dog breed.  There are many points of possible failure, and no perfect algorithm exists.  Your imperfect solution will nonetheless create a fun user experience!\n",
    "\n",
    "### The Road Ahead\n",
    "\n",
    "We break the notebook into separate steps.  Feel free to use the links below to navigate the notebook.\n",
    "\n",
    "* [Step 0](#step0): Import Datasets\n",
    "* [Step 1](#step1): Detect Humans\n",
    "* [Step 2](#step2): Detect Dogs\n",
    "* [Step 3](#step3): Create a CNN to Classify Dog Breeds (from Scratch)\n",
    "* [Step 4](#step4): Create a CNN to Classify Dog Breeds (using Transfer Learning)\n",
    "* [Step 5](#step5): Write your Algorithm\n",
    "* [Step 6](#step6): Test Your Algorithm\n",
    "\n",
    "---\n",
    "<a id='step0'></a>\n",
    "## Step 0: Import Datasets\n",
    "\n",
    "Make sure that you've downloaded the required human and dog datasets:\n",
    "* Download the [dog dataset](https://s3-us-west-1.amazonaws.com/udacity-aind/dog-project/dogImages.zip).  Unzip the folder and place it in this project's home directory, at the location `/dogImages`. \n",
    "\n",
    "* Download the [human dataset](https://s3-us-west-1.amazonaws.com/udacity-aind/dog-project/lfw.zip).  Unzip the folder and place it in the home directory, at location `/lfw`.  \n",
    "\n",
    "*Note: If you are using a Windows machine, you are encouraged to use [7zip](http://www.7-zip.org/) to extract the folder.*\n",
    "\n",
    "In the code cell below, we save the file paths for both the human (LFW) dataset and dog dataset in the numpy arrays `human_files` and `dog_files`."
   ]
  },
  {
   "cell_type": "markdown",
   "metadata": {
    "id": "z1L2dFINa0uR"
   },
   "source": [
    "### Google Colab (Optional)\n",
    "The code below is required if the notebook is opened in Google Colab. It will help you to download the datasets and openCV face detector file into the colab instance."
   ]
  },
  {
   "cell_type": "code",
   "execution_count": null,
   "metadata": {
    "id": "xZjdgyqLa0uU"
   },
   "outputs": [],
   "source": [
    "import os, shutil, requests\n",
    "from google.colab import drive \n",
    "from zipfile import ZipFile\n",
    "from tqdm import tqdm\n",
    "from google.colab import drive\n",
    "\n",
    "# define a flag to track if notebook is running in Colab session\n",
    "isColabRunning = False\n",
    "\n",
    "def isRunningColab():\n",
    "    '''\n",
    "    Check if notebook is running in a Google Colab environment.\n",
    "    If yes, return True otherwise False.\n",
    "    '''\n",
    "    if 'google.colab' in str(get_ipython()):\n",
    "        print('Running in Colab\\n')\n",
    "        isColab = True\n",
    "        return True\n",
    "    else:\n",
    "        isColab = False\n",
    "        return False\n",
    "\n",
    "def saveToDrive(file_name):\n",
    "    # save to Drive's root directory\n",
    "    drive.mount('/content/drive')\n",
    "    path = os.path.join('/content/drive/MyDrive/', file_name)\n",
    "    shutil.copy2(file_name, path)\n",
    "    print(file_name, 'copied to Drive.')\n",
    "    drive.flush_and_unmount()\n",
    "\n",
    "def loadFromDrive(file_name):\n",
    "    # load from Drive's root directory\n",
    "    drive.mount('/content/drive')\n",
    "    path = os.path.join('/content/drive/MyDrive/', file_name)\n",
    "    shutil.copy2( path, '.' )\n",
    "    print(file_name, 'loaded from Drive.')\n",
    "    drive.flush_and_unmount()\n",
    "\n",
    "def downloadFile(file_url, file_name, dir=None, chunk_size=1024):\n",
    "    '''\n",
    "    Helper function to download file to specified directory\n",
    "\n",
    "    :param file_url: file download URL\n",
    "    :param file_name: file name to be saved.\n",
    "    :param dir: path where file is saved other than current directory (Default = current working directory)\n",
    "    :param chunk_size: size of file chunk to download (Default = 1024 bytes)\n",
    "    :returns: None\n",
    "    '''\n",
    "    saved_file_path = file_name\n",
    "    if dir != None and not os.path.exists(dir):\n",
    "        os.mkdir(dir)\n",
    "        saved_file_path = os.path.join(dir, file_name)\n",
    "\n",
    "    r = requests.get(file_url, stream=True)\n",
    "    total_size_in_bytes = len(r.content)\n",
    "    progress_bar = tqdm(total=total_size_in_bytes, unit='iB', unit_scale=True, desc=file_name)\n",
    "    \n",
    "    with open(saved_file_path, 'wb') as f:\n",
    "        for chunk in r.iter_content(chunk_size):\n",
    "            progress_bar.update(len(chunk))\n",
    "            # writing one chunk at a time to file\n",
    "            if chunk:\n",
    "                f.write(chunk)\n",
    "    progress_bar.close()\n",
    "    if total_size_in_bytes != 0 and progress_bar.n != total_size_in_bytes:\n",
    "       print(\"ERROR, something went wrong\")\n",
    "       return\n",
    "\n",
    "def extractFile(file_name):\n",
    "    # create a zipfile object and extract it to current directory\n",
    "    print(\"Extracting file...\")\n",
    "    with ZipFile(file_name, 'r') as z:\n",
    "        z.extractall()\n",
    "\n",
    "def colabSetup():\n",
    "    '''\n",
    "    Download datasets and openCV face detector xml file into Colab instance.\n",
    "    '''\n",
    "    print('Downloading datasets and openCV classifiers...')\n",
    "\n",
    "    dog_url = 'https://s3-us-west-1.amazonaws.com/udacity-aind/dog-project/dogImages.zip'\n",
    "    lfw_url = 'https://s3-us-west-1.amazonaws.com/udacity-aind/dog-project/lfw.zip'\n",
    "    face_detector_url = 'https://github.com/opencv/opencv/raw/master/data/haarcascades/haarcascade_frontalface_alt.xml' # raw xml file link\n",
    "    \n",
    "    downloadFile(dog_url, 'dogImages.zip')\n",
    "    extractFile('dogImages.zip')\n",
    "    downloadFile(lfw_url, 'lfw.zip')\n",
    "    extractFile('lfw.zip')\n",
    "    downloadFile(face_detector_url, 'haarcascade_frontalface_alt.xml', './haarcascades')\n",
    "    print('\\n...DONE')\n",
    "\n",
    "# check if notebook is running in a Colab session\n",
    "isColabRunning = isRunningColab()\n",
    "\n",
    "if isColabRunning:\n",
    "    colabSetup()\n"
   ]
  },
  {
   "cell_type": "code",
   "execution_count": 1,
   "metadata": {
    "id": "M_l78X2Ma0uX"
   },
   "outputs": [
    {
     "name": "stdout",
     "output_type": "stream",
     "text": [
      "There are 13233 total human images.\n",
      "There are 8351 total dog images.\n"
     ]
    }
   ],
   "source": [
    "import numpy as np\n",
    "from glob import glob\n",
    "\n",
    "# load filenames for human and dog images\n",
    "human_files = np.array(glob(\"lfw/*/*\"))\n",
    "dog_files = np.array(glob(\"dogImages/*/*/*\"))\n",
    "\n",
    "# print number of images in each dataset\n",
    "print('There are %d total human images.' % len(human_files))\n",
    "print('There are %d total dog images.' % len(dog_files))"
   ]
  },
  {
   "cell_type": "markdown",
   "metadata": {
    "id": "CewCMDgDa0uY"
   },
   "source": [
    "<a id='step1'></a>\n",
    "## Step 1: Detect Humans\n",
    "\n",
    "In this section, we use OpenCV's implementation of [Haar feature-based cascade classifiers](http://docs.opencv.org/trunk/d7/d8b/tutorial_py_face_detection.html) to detect human faces in images.  \n",
    "\n",
    "OpenCV provides many pre-trained face detectors, stored as XML files on [github](https://github.com/opencv/opencv/tree/master/data/haarcascades).  We have downloaded one of these detectors and stored it in the `haarcascades` directory.  In the next code cell, we demonstrate how to use this detector to find human faces in a sample image."
   ]
  },
  {
   "cell_type": "code",
   "execution_count": 2,
   "metadata": {
    "id": "fwkiR2Tra0uY"
   },
   "outputs": [
    {
     "name": "stdout",
     "output_type": "stream",
     "text": [
      "Number of faces detected: 1\n"
     ]
    },
    {
     "data": {
      "image/png": "[encoded data removed]",
      "text/plain": [
       "<Figure size 432x288 with 1 Axes>"
      ]
     },
     "metadata": {
      "needs_background": "light"
     },
     "output_type": "display_data"
    }
   ],
   "source": [
    "import cv2                \n",
    "import matplotlib.pyplot as plt                        \n",
    "%matplotlib inline                               \n",
    "\n",
    "# extract pre-trained face detector\n",
    "face_cascade = cv2.CascadeClassifier('haarcascades/haarcascade_frontalface_alt.xml')\n",
    "\n",
    "# load color (BGR) image\n",
    "img = cv2.imread(human_files[0])\n",
    "# convert BGR image to grayscale\n",
    "gray = cv2.cvtColor(img, cv2.COLOR_BGR2GRAY)\n",
    "\n",
    "# find faces in image\n",
    "faces = face_cascade.detectMultiScale(gray)\n",
    "\n",
    "# print number of faces detected in the image\n",
    "print('Number of faces detected:', len(faces))\n",
    "\n",
    "# get bounding box for each detected face\n",
    "for (x,y,w,h) in faces:\n",
    "    # add bounding box to color image\n",
    "    cv2.rectangle(img,(x,y),(x+w,y+h),(255,0,0),2)\n",
    "    \n",
    "# convert BGR image to RGB for plotting\n",
    "cv_rgb = cv2.cvtColor(img, cv2.COLOR_BGR2RGB)\n",
    "\n",
    "# display the image, along with bounding box\n",
    "plt.imshow(cv_rgb)\n",
    "plt.show()"
   ]
  },
  {
   "cell_type": "markdown",
   "metadata": {
    "id": "Khk2wXX7a0uZ"
   },
   "source": [
    "Before using any of the face detectors, it is standard procedure to convert the images to grayscale.  The `detectMultiScale` function executes the classifier stored in `face_cascade` and takes the grayscale image as a parameter.  \n",
    "\n",
    "In the above code, `faces` is a numpy array of detected faces, where each row corresponds to a detected face.  Each detected face is a 1D array with four entries that specifies the bounding box of the detected face.  The first two entries in the array (extracted in the above code as `x` and `y`) specify the horizontal and vertical positions of the top left corner of the bounding box.  The last two entries in the array (extracted here as `w` and `h`) specify the width and height of the box.\n",
    "\n",
    "### Write a Human Face Detector\n",
    "\n",
    "We can use this procedure to write a function that returns `True` if a human face is detected in an image and `False` otherwise.  This function, aptly named `face_detector`, takes a string-valued file path to an image as input and appears in the code block below."
   ]
  },
  {
   "cell_type": "code",
   "execution_count": 3,
   "metadata": {
    "id": "XGv8GIOha0ua"
   },
   "outputs": [],
   "source": [
    "# returns \"True\" if face is detected in image stored at img_path\n",
    "def face_detector(img_path):\n",
    "    img = cv2.imread(img_path)\n",
    "    gray = cv2.cvtColor(img, cv2.COLOR_BGR2GRAY)\n",
    "    faces = face_cascade.detectMultiScale(gray)\n",
    "    return len(faces) > 0"
   ]
  },
  {
   "cell_type": "markdown",
   "metadata": {
    "id": "NP-iTFdoa0ub"
   },
   "source": [
    "### (IMPLEMENTATION) Assess the Human Face Detector\n",
    "\n",
    "__Question 1:__ Use the code cell below to test the performance of the `face_detector` function.  \n",
    "- What percentage of the first 100 images in `human_files` have a detected human face?  \n",
    "- What percentage of the first 100 images in `dog_files` have a detected human face? \n",
    "\n",
    "Ideally, we would like 100% of human images with a detected face and 0% of dog images with a detected face.  You will see that our algorithm falls short of this goal, but still gives acceptable performance.  We extract the file paths for the first 100 images from each of the datasets and store them in the numpy arrays `human_files_short` and `dog_files_short`."
   ]
  },
  {
   "cell_type": "markdown",
   "metadata": {
    "id": "z5dA31SKa0uc"
   },
   "source": [
    "__Answer:__ \n",
    "(You can print out your results and/or write your percentages in this cell)"
   ]
  },
  {
   "cell_type": "code",
   "execution_count": 4,
   "metadata": {
    "id": "Sz3YC5fra0ud"
   },
   "outputs": [
    {
     "name": "stderr",
     "output_type": "stream",
     "text": [
      "human_files (first 100 images): 100%|██████████| 100/100 [00:04<00:00, 22.00it/s]\n",
      "dog_files (first 100 images):   0%|          | 0/100 [00:00<?, ?it/s]"
     ]
    },
    {
     "name": "stdout",
     "output_type": "stream",
     "text": [
      "Percentage of detected human faces in human_files: 99 %\n"
     ]
    },
    {
     "name": "stderr",
     "output_type": "stream",
     "text": [
      "dog_files (first 100 images): 100%|██████████| 100/100 [00:17<00:00,  5.59it/s]"
     ]
    },
    {
     "name": "stdout",
     "output_type": "stream",
     "text": [
      "Percentage of detected human faces in dog_files: 8 %\n"
     ]
    },
    {
     "name": "stderr",
     "output_type": "stream",
     "text": [
      "\n"
     ]
    }
   ],
   "source": [
    "from tqdm import tqdm\n",
    "\n",
    "human_files_short = human_files[:100]\n",
    "dog_files_short = dog_files[:100]\n",
    "\n",
    "#-#-# Do NOT modify the code above this line. #-#-#\n",
    "count_humans = 0\n",
    "count_dogs = 0\n",
    "## TODO: Test the performance of the face_detector algorithm \n",
    "## on the images in human_files_short and dog_files_short.\n",
    "for human_file_path in tqdm(human_files_short, desc = \"human_files (first 100 images)\"):\n",
    "    if face_detector(human_file_path):\n",
    "        count_humans += 1\n",
    "#    else:\n",
    "#        print(\"Not a human face at index:\", np.where(human_files_short == file), \",\\nin file\", str(file))\n",
    "#        img1 = cv2.imread(file)\n",
    "        # convert BGR image to RGB for plotting\n",
    "#        cv_rgb = cv2.cvtColor(img1, cv2.COLOR_BGR2RGB)\n",
    "\n",
    "        # display the image, along with bounding box\n",
    "#        plt.imshow(cv_rgb)\n",
    "#        plt.show()\n",
    "print(\"Percentage of detected human faces in human_files:\", str(count_humans), \"%\")\n",
    "\n",
    "for dog_file_path in tqdm(dog_files_short, desc = \"dog_files (first 100 images)\"):\n",
    "    if face_detector(dog_file_path):\n",
    "        count_dogs += 1\n",
    "print(\"Percentage of detected human faces in dog_files:\", str(count_dogs), \"%\")"
   ]
  },
  {
   "cell_type": "markdown",
   "metadata": {
    "id": "H-2k-Iema0ud"
   },
   "source": [
    "We suggest the face detector from OpenCV as a potential way to detect human images in your algorithm, but you are free to explore other approaches, especially approaches that make use of deep learning :).  Please use the code cell below to design and test your own face detection algorithm.  If you decide to pursue this _optional_ task, report performance on `human_files_short` and `dog_files_short`."
   ]
  },
  {
   "cell_type": "code",
   "execution_count": 5,
   "metadata": {
    "id": "sVNS15Yia0ue"
   },
   "outputs": [],
   "source": [
    "### (Optional) \n",
    "### TODO: Test performance of another face detection algorithm.\n",
    "### Feel free to use as many code cells as needed."
   ]
  },
  {
   "cell_type": "markdown",
   "metadata": {
    "id": "6AXqNaw6a0ue"
   },
   "source": [
    "---\n",
    "<a id='step2'></a>\n",
    "## Step 2: Detect Dogs\n",
    "\n",
    "In this section, we use a [pre-trained model](http://pytorch.org/docs/master/torchvision/models.html) to detect dogs in images.  \n",
    "\n",
    "### Obtain Pre-trained VGG-16 Model\n",
    "\n",
    "The code cell below downloads the VGG-16 model, along with weights that have been trained on [ImageNet](http://www.image-net.org/), a very large, very popular dataset used for image classification and other vision tasks.  ImageNet contains over 10 million URLs, each linking to an image containing an object from one of [1000 categories](https://gist.github.com/yrevar/942d3a0ac09ec9e5eb3a).  "
   ]
  },
  {
   "cell_type": "code",
   "execution_count": 6,
   "metadata": {
    "id": "NX6SOlZUa0uf"
   },
   "outputs": [
    {
     "name": "stderr",
     "output_type": "stream",
     "text": [
      "Downloading: \"https://download.pytorch.org/models/vgg16-397923af.pth\" to /home/ec2-user/.cache/torch/checkpoints/vgg16-397923af.pth\n"
     ]
    },
    {
     "data": {
      "application/vnd.jupyter.widget-view+json": {
       "model_id": "13e061d1821e4d518410a00e08553cdd",
       "version_major": 2,
       "version_minor": 0
      },
      "text/plain": [
       "  0%|          | 0.00/528M [00:00<?, ?B/s]"
      ]
     },
     "metadata": {},
     "output_type": "display_data"
    }
   ],
   "source": [
    "import torch\n",
    "import torchvision.models as models\n",
    "\n",
    "# define VGG16 model\n",
    "VGG16 = models.vgg16(pretrained=True)\n",
    "\n",
    "# check if CUDA is available\n",
    "use_cuda = torch.cuda.is_available()\n",
    "\n",
    "# move model to GPU if CUDA is available\n",
    "if use_cuda:\n",
    "    VGG16 = VGG16.cuda()"
   ]
  },
  {
   "cell_type": "markdown",
   "metadata": {
    "id": "lcPqpebna0uf"
   },
   "source": [
    "Given an image, this pre-trained VGG-16 model returns a prediction (derived from the 1000 possible categories in ImageNet) for the object that is contained in the image."
   ]
  },
  {
   "cell_type": "markdown",
   "metadata": {
    "id": "i7remVpea0ug"
   },
   "source": [
    "### (IMPLEMENTATION) Making Predictions with a Pre-trained Model\n",
    "\n",
    "In the next code cell, you will write a function that accepts a path to an image (such as `'dogImages/train/001.Affenpinscher/Affenpinscher_00001.jpg'`) as input and returns the index corresponding to the ImageNet class that is predicted by the pre-trained VGG-16 model.  The output should always be an integer between 0 and 999, inclusive.\n",
    "\n",
    "Before writing the function, make sure that you take the time to learn  how to appropriately pre-process tensors for pre-trained models in the [PyTorch documentation](https://pytorch.org/vision/stable/models.html)."
   ]
  },
  {
   "cell_type": "code",
   "execution_count": 7,
   "metadata": {
    "id": "Rc7KwbrTa0ug"
   },
   "outputs": [],
   "source": [
    "from PIL import Image\n",
    "import torchvision.transforms as transforms\n",
    "\n",
    "# Set PIL to be tolerant of image files that are truncated.\n",
    "from PIL import ImageFile\n",
    "ImageFile.LOAD_TRUNCATED_IMAGES = True\n",
    "\n",
    "def VGG16_predict(img_path):\n",
    "    '''\n",
    "    Use pre-trained VGG-16 model to obtain index corresponding to \n",
    "    predicted ImageNet class for image at specified path\n",
    "    \n",
    "    Args:\n",
    "        img_path: path to an image\n",
    "        \n",
    "    Returns:\n",
    "        Index corresponding to VGG-16 model's prediction\n",
    "    '''\n",
    "    input_img = Image.open(img_path)\n",
    "\n",
    "    # Preprocess the input image to the input pixel height, width\n",
    "    # Normalize using mean and std deviation values from ImageNet models\n",
    "    preprocess = transforms.Compose([\n",
    "        transforms.Resize(256),\n",
    "        transforms.CenterCrop(224),\n",
    "        transforms.ToTensor(),\n",
    "        transforms.Normalize(\n",
    "        mean=[0.485, 0.456, 0.406],\n",
    "        std=[0.229, 0.224, 0.225]\n",
    "        )])\n",
    "\n",
    "    # Returns a tensor of shape (color channels=3, height, width)\n",
    "    input_tensor = preprocess(input_img)\n",
    "    \n",
    "    # PyTorch pretrained models expect tensor dims to be (batch_size, color channels, height, width).\n",
    "    # However, we have (color channels, height, width); fix this by inserting a new axis at index 0,\n",
    "    # i.e. in front of the other axes/dims.\n",
    "    input_batch = input_tensor.unsqueeze(0)\n",
    "\n",
    "    # use GPU if available\n",
    "    if use_cuda:\n",
    "        input_batch = input_batch.cuda()\n",
    "\n",
    "    # Set to eval mode to use pretrained weights\n",
    "    VGG16.eval()\n",
    "    pred = VGG16(input_batch)\n",
    "    #print(\"pred = {}, shape = {}\".format(pred, pred.shape))\n",
    "\n",
    "    # Get index of the maximum value in the tensor\n",
    "    index = torch.argmax(pred, dim=1)\n",
    "\n",
    "    return int(index) # predicted class index"
   ]
  },
  {
   "cell_type": "markdown",
   "metadata": {
    "id": "4FZkTLRda0uh"
   },
   "source": [
    "### (IMPLEMENTATION) Write a Dog Detector\n",
    "\n",
    "While looking at the [dictionary](https://gist.github.com/yrevar/942d3a0ac09ec9e5eb3a), you will notice that the categories corresponding to dogs appear in an uninterrupted sequence and correspond to dictionary keys 151-268, inclusive, to include all categories from `'Chihuahua'` to `'Mexican hairless'`.  Thus, in order to check to see if an image is predicted to contain a dog by the pre-trained VGG-16 model, we need only check if the pre-trained model predicts an index between 151 and 268 (inclusive).\n",
    "\n",
    "Use these ideas to complete the `dog_detector` function below, which returns `True` if a dog is detected in an image (and `False` if not)."
   ]
  },
  {
   "cell_type": "code",
   "execution_count": 8,
   "metadata": {
    "id": "3xuymJD-a0uh"
   },
   "outputs": [],
   "source": [
    "### returns \"True\" if a dog is detected in the image stored at img_path\n",
    "def dog_detector(img_path):\n",
    "    retVal = False\n",
    "    index = VGG16_predict(img_path)\n",
    "    if index >= 151 and index <= 268:\n",
    "        retVal = True\n",
    "    else:\n",
    "        retVal = False\n",
    "    return retVal"
   ]
  },
  {
   "cell_type": "markdown",
   "metadata": {
    "id": "p7iWCPhOa0ui"
   },
   "source": [
    "### (IMPLEMENTATION) Assess the Dog Detector\n",
    "\n",
    "__Question 2:__ Use the code cell below to test the performance of your `dog_detector` function.  \n",
    "- What percentage of the images in `human_files_short` have a detected dog?  \n",
    "- What percentage of the images in `dog_files_short` have a detected dog?"
   ]
  },
  {
   "cell_type": "markdown",
   "metadata": {
    "id": "83ZRtmRRa0ui"
   },
   "source": [
    "__Answer:__\n",
    "- Percentage of dogs found in human_files_short = 0%\n",
    "- Percentage of dogs found in dogs_files_short = 98%\n"
   ]
  },
  {
   "cell_type": "code",
   "execution_count": 9,
   "metadata": {
    "id": "cmAIDsPGa0ui"
   },
   "outputs": [
    {
     "name": "stderr",
     "output_type": "stream",
     "text": [
      "human_files_short: 100%|██████████| 100/100 [00:09<00:00, 11.08it/s]\n",
      "dog_files_short:   3%|▎         | 3/100 [00:00<00:04, 20.43it/s]"
     ]
    },
    {
     "name": "stdout",
     "output_type": "stream",
     "text": [
      "\n",
      "Percentage of dogs found in human_files_short: 0%\n"
     ]
    },
    {
     "name": "stderr",
     "output_type": "stream",
     "text": [
      "dog_files_short: 100%|██████████| 100/100 [00:04<00:00, 21.65it/s]"
     ]
    },
    {
     "name": "stdout",
     "output_type": "stream",
     "text": [
      "\n",
      "Percentage of dogs found in dog_files_short: 98%\n"
     ]
    },
    {
     "name": "stderr",
     "output_type": "stream",
     "text": [
      "\n"
     ]
    }
   ],
   "source": [
    "### TODO: Test the performance of the dog_detector function\n",
    "### on the images in human_files_short and dog_files_short.\n",
    "human_files_short = human_files[:100]\n",
    "dog_files_short = dog_files[:100]\n",
    "\n",
    "resultA = 0\n",
    "resultB = 0\n",
    "for img in tqdm(human_files_short, desc = \"human_files_short\"):\n",
    "    if dog_detector(img) == True:\n",
    "        resultA += 1\n",
    "print(\"\\nPercentage of dogs found in human_files_short: {}%\".format(resultA))\n",
    "\n",
    "for img in tqdm(dog_files_short, desc = \"dog_files_short\"):\n",
    "    if dog_detector(img) == True:\n",
    "        resultB += 1\n",
    "print(\"\\nPercentage of dogs found in dog_files_short: {}%\".format(resultB))"
   ]
  },
  {
   "cell_type": "markdown",
   "metadata": {
    "id": "81P-5S9fa0uj"
   },
   "source": [
    "We suggest VGG-16 as a potential network to detect dog images in your algorithm, but you are free to explore other pre-trained networks (such as [Inception-v3](http://pytorch.org/docs/master/torchvision/models.html#inception-v3), [ResNet-50](http://pytorch.org/docs/master/torchvision/models.html#id3), etc).  Please use the code cell below to test other pre-trained PyTorch models.  If you decide to pursue this _optional_ task, report performance on `human_files_short` and `dog_files_short`."
   ]
  },
  {
   "cell_type": "code",
   "execution_count": 10,
   "metadata": {
    "id": "ezIdEOASa0uj"
   },
   "outputs": [],
   "source": [
    "### (Optional) \n",
    "### TODO: Report the performance of another pre-trained network.\n",
    "### Feel free to use as many code cells as needed."
   ]
  },
  {
   "cell_type": "markdown",
   "metadata": {
    "id": "kM8EPd9Ja0uk"
   },
   "source": [
    "---\n",
    "<a id='step3'></a>\n",
    "## Step 3: Create a CNN to Classify Dog Breeds (from Scratch)\n",
    "\n",
    "Now that we have functions for detecting humans and dogs in images, we need a way to predict breed from images.  In this step, you will create a CNN that classifies dog breeds.  You must create your CNN _from scratch_ (so, you can't use transfer learning _yet_!), and you must attain a test accuracy of at least 10%.  In Step 4 of this notebook, you will have the opportunity to use transfer learning to create a CNN that attains greatly improved accuracy.\n",
    "\n",
    "We mention that the task of assigning breed to dogs from images is considered exceptionally challenging.  To see why, consider that *even a human* would have trouble distinguishing between a Brittany and a Welsh Springer Spaniel.  \n",
    "\n",
    "Brittany | Welsh Springer Spaniel\n",
    "- | - \n",
    "<img src=\"https://github.com/reedemus/dog_breed_classifier/blob/transfer-learning/images/Brittany_02625.jpg?raw=1\" width=\"100\"> | <img src=\"https://github.com/reedemus/dog_breed_classifier/blob/transfer-learning/images/Welsh_springer_spaniel_08203.jpg?raw=1\" width=\"200\">\n",
    "\n",
    "It is not difficult to find other dog breed pairs with minimal inter-class variation (for instance, Curly-Coated Retrievers and American Water Spaniels).  \n",
    "\n",
    "Curly-Coated Retriever | American Water Spaniel\n",
    "- | -\n",
    "<img src=\"https://github.com/reedemus/dog_breed_classifier/blob/transfer-learning/images/Curly-coated_retriever_03896.jpg?raw=1\" width=\"200\"> | <img src=\"https://github.com/reedemus/dog_breed_classifier/blob/transfer-learning/images/American_water_spaniel_00648.jpg?raw=1\" width=\"200\">\n",
    "\n",
    "\n",
    "Likewise, recall that labradors come in yellow, chocolate, and black.  Your vision-based algorithm will have to conquer this high intra-class variation to determine how to classify all of these different shades as the same breed.  \n",
    "\n",
    "Yellow Labrador | Chocolate Labrador | Black Labrador\n",
    "- | -\n",
    "<img src=\"https://github.com/reedemus/dog_breed_classifier/blob/transfer-learning/images/Labrador_retriever_06457.jpg?raw=1\" width=\"150\"> | <img src=\"https://github.com/reedemus/dog_breed_classifier/blob/transfer-learning/images/Labrador_retriever_06455.jpg?raw=1\" width=\"240\"> | <img src=\"https://github.com/reedemus/dog_breed_classifier/blob/transfer-learning/images/Labrador_retriever_06449.jpg?raw=1\" width=\"220\">\n",
    "\n",
    "We also mention that random chance presents an exceptionally low bar: setting aside the fact that the classes are slightly imabalanced, a random guess will provide a correct answer roughly 1 in 133 times, which corresponds to an accuracy of less than 1%.  \n",
    "\n",
    "Remember that the practice is far ahead of the theory in deep learning.  Experiment with many different architectures, and trust your intuition.  And, of course, have fun!\n",
    "\n",
    "### (IMPLEMENTATION) Specify Data Loaders for the Dog Dataset\n",
    "\n",
    "Use the code cell below to write three separate [data loaders](http://pytorch.org/docs/stable/data.html#torch.utils.data.DataLoader) for the training, validation, and test datasets of dog images (located at `dogImages/train`, `dogImages/valid`, and `dogImages/test`, respectively).  You may find [this documentation on custom datasets](http://pytorch.org/docs/stable/torchvision/datasets.html) to be a useful resource.  If you are interested in augmenting your training and/or validation data, check out the wide variety of [transforms](http://pytorch.org/docs/stable/torchvision/transforms.html?highlight=transform)!"
   ]
  },
  {
   "cell_type": "code",
   "execution_count": 11,
   "metadata": {
    "id": "xr3Ozao_a0uk"
   },
   "outputs": [],
   "source": [
    "import os\n",
    "from torchvision import datasets, transforms\n",
    "from torch.utils.data import DataLoader\n",
    "\n",
    "### TODO: Write data loaders for training, validation, and test sets\n",
    "## Specify appropriate transforms, and batch_sizes\n",
    "root_dir = 'dogImages/'\n",
    "train_dir = os.path.join(root_dir, 'train')\n",
    "valid_dir = os.path.join(root_dir, 'valid')\n",
    "test_dir = os.path.join(root_dir, 'test')\n",
    "IMG_SIZE = 256\n",
    "\n",
    "# Data augmentation to create a variety of test images so the model learn to generalize better.\n",
    "# Output is a tensor.\n",
    "preprocess_train = transforms.Compose([\n",
    "                                    transforms.RandomResizedCrop(IMG_SIZE),\n",
    "                                    transforms.RandomRotation(20),\n",
    "                                    transforms.RandomHorizontalFlip(),\n",
    "                                    transforms.ToTensor(),\n",
    "                                    transforms.Normalize(mean=[0.485, 0.456, 0.406],\n",
    "                                                         std=[0.229, 0.224, 0.225] )\n",
    "                                        ])\n",
    "\n",
    "# Data augmentation is not performed on validation and test datasets because the goal is not to create more data,\n",
    "# but to resize and crop the images to the same size as the input image.\n",
    "# Output is a tensor.\n",
    "preprocess_valid_test = transforms.Compose([\n",
    "                                    transforms.Resize(384),\n",
    "                                    transforms.CenterCrop(IMG_SIZE),\n",
    "                                    transforms.ToTensor(),\n",
    "                                    transforms.Normalize(mean=[0.485, 0.456, 0.406],\n",
    "                                                         std=[0.229, 0.224, 0.225] )\n",
    "                                        ])\n",
    "\n",
    "train_dataset = datasets.ImageFolder(train_dir, transform=preprocess_train)\n",
    "valid_dataset = datasets.ImageFolder(valid_dir, transform=preprocess_valid_test)\n",
    "test_dataset = datasets.ImageFolder(test_dir, transform=preprocess_valid_test)\n",
    "\n",
    "BATCH_SIZE = 64\n",
    "train_loader = DataLoader(train_dataset, batch_size=BATCH_SIZE, shuffle=True)\n",
    "valid_loader = DataLoader(valid_dataset, batch_size=BATCH_SIZE, shuffle=False)\n",
    "test_loader = DataLoader(test_dataset, batch_size=BATCH_SIZE, shuffle=False)\n",
    "\n",
    "loaders_scratch = { 'train':train_loader, 'valid':valid_loader, 'test':test_loader }\n",
    "use_cuda = torch.cuda.is_available()"
   ]
  },
  {
   "cell_type": "markdown",
   "metadata": {
    "id": "ppxhKLVHa0ul"
   },
   "source": [
    "**Question 3:** Describe your chosen procedure for preprocessing the data. \n",
    "- How does your code resize the images (by cropping, stretching, etc)?  What size did you pick for the input tensor, and why?\n",
    "- Did you decide to augment the dataset?  If so, how (through translations, flips, rotations, etc)?  If not, why not?\n"
   ]
  },
  {
   "cell_type": "markdown",
   "metadata": {
    "id": "0au1YMAMa0um"
   },
   "source": [
    "**Answer**:\n",
    "\n",
    "Using Pytorch transforms API, I resize the images to 256 x 256 resolution, which is a squarish format typically used in computer vision tasks. Also, this size uses less RAM for training as compared to 1024 x 1024 or higher.\n",
    "\n",
    "I decide to augment only the training dataset to create more variety of training images so the the model learns and generalizes better. This means the model can handle photos that are not shot perfectly in real life.\n",
    "\n",
    "However, the images in validation and test datasets are not augmented heavily(except resizing and cropping) as the objective is to have actual images for evaluation and not to artificially improve validation accuracy, which will lead to overfitting."
   ]
  },
  {
   "cell_type": "markdown",
   "metadata": {
    "id": "4nlmhNgia0um"
   },
   "source": [
    "### (IMPLEMENTATION) Model Architecture\n",
    "\n",
    "Create a CNN to classify dog breed.  Use the template in the code cell below."
   ]
  },
  {
   "cell_type": "code",
   "execution_count": 12,
   "metadata": {
    "id": "evnJ4RI3a0um"
   },
   "outputs": [],
   "source": [
    "import torch.nn as nn\n",
    "import torch.nn.functional as F\n",
    "\n",
    "# define the CNN architecture\n",
    "class Net(nn.Module):\n",
    "    def __init__(self, num_classes=133):\n",
    "        super().__init__()\n",
    "        ## Define layers of a CNN\n",
    "        # convolutional layer (input shape = 256 x 256 x 3 image tensor)\n",
    "        self.conv1 = nn.Conv2d(3, 32, 10, stride=1, padding=0)\n",
    "        # convolutional layer (input shape = 123 x 123 x 32 tensor after relu and maxpool layer)\n",
    "        self.conv2 = nn.Conv2d(32, 64, 2, stride=1, padding=0)\n",
    "        # convolutional layer (input shape = 61 x 61 x 64 tensor after relu and maxpool layer)\n",
    "        self.conv3 = nn.Conv2d(64, 128, 2, stride=1, padding=0)\n",
    "        # convolutional layer (input shape = 30 x 30 x 128 tensor after relu and maxpool layer)\n",
    "        self.conv4 = nn.Conv2d(128, 128, 2, stride=1, padding=0)\n",
    "        # convolutional layer (input shape = 14 x 14 x 128 tensor after relu and maxpool layer)\n",
    "        self.conv5 = nn.Conv2d(128, 256, 3, stride=1, padding=0)\n",
    "        # max pooling layer\n",
    "        self.pool = nn.MaxPool2d(2, 2)\n",
    "\n",
    "        # linear layer (input shape = 6 x 6 x 256 tensor after conv5's relu and maxpool layer)\n",
    "        self.fc1 = nn.Linear(256 * 6 * 6, 1330)\n",
    "        # linear layer (1330 -> 133)\n",
    "        self.fc2 = nn.Linear(1330, 133)\n",
    "        # dropout layer (p=0.25)\n",
    "        self.dropout = nn.Dropout(0.25)\n",
    "    \n",
    "    def forward(self, x):\n",
    "        ## Define forward behavior\n",
    "        # add sequence of convolutional and max pooling layers\n",
    "        # print(x.shape)\n",
    "        x = self.pool(F.relu(self.conv1(x)))\n",
    "        # print(x.shape)\n",
    "        x = self.pool(F.relu(self.conv2(x)))\n",
    "        # print(x.shape)\n",
    "        x = self.pool(F.relu(self.conv3(x)))\n",
    "        # print(x.shape)\n",
    "        x = self.pool(F.relu(self.conv4(x)))\n",
    "        # print(x.shape)\n",
    "        x = self.pool(F.relu(self.conv5(x)))\n",
    "        # print(x.shape)\n",
    "        # flatten image input\n",
    "        x = torch.flatten(x, 1)\n",
    "        # add dropout layer\n",
    "        # x = self.dropout(x) # remove dropout at input\n",
    "        # add 1st hidden layer, with relu activation function\n",
    "        x = F.relu(self.fc1(x))\n",
    "        # add dropout layer\n",
    "        x = self.dropout(x)\n",
    "        # add 2nd hidden layer, with relu activation function\n",
    "        x = self.fc2(x)\n",
    "        return x\n",
    "\n",
    "#-#-# You do NOT have to modify the code below this line. #-#-#\n",
    "\n",
    "# instantiate the CNN\n",
    "model_scratch = Net()\n",
    "\n",
    "# move tensors to GPU if CUDA is available\n",
    "if use_cuda:\n",
    "    model_scratch.cuda()"
   ]
  },
  {
   "cell_type": "markdown",
   "metadata": {
    "id": "RVhhcOcBa0un"
   },
   "source": [
    "__Question 4:__ Outline the steps you took to get to your final CNN architecture and your reasoning at each step.  "
   ]
  },
  {
   "cell_type": "markdown",
   "metadata": {
    "id": "KeFZTM0Ea0uo"
   },
   "source": [
    "__Answer:__ "
   ]
  },
  {
   "cell_type": "markdown",
   "metadata": {
    "id": "zRAEwLl0a0uo"
   },
   "source": [
    "### (IMPLEMENTATION) Specify Loss Function and Optimizer\n",
    "\n",
    "Use the next code cell to specify a [loss function](http://pytorch.org/docs/stable/nn.html#loss-functions) and [optimizer](http://pytorch.org/docs/stable/optim.html).  Save the chosen loss function as `criterion_scratch`, and the optimizer as `optimizer_scratch` below."
   ]
  },
  {
   "cell_type": "code",
   "execution_count": 13,
   "metadata": {
    "colab": {
     "base_uri": "https://localhost:8080/",
     "height": 235
    },
    "id": "rlTMZcywa0uo",
    "outputId": "3d8137ea-2f9c-4765-d179-53f06790874f"
   },
   "outputs": [],
   "source": [
    "import torch.optim as optim\n",
    "\n",
    "### TODO: select loss function\n",
    "criterion_scratch = nn.CrossEntropyLoss()\n",
    "\n",
    "### TODO: select optimizer\n",
    "optimizer_scratch = optim.Adam( model_scratch.parameters(), lr=0.001 )"
   ]
  },
  {
   "cell_type": "markdown",
   "metadata": {
    "id": "h8_niqpia0up"
   },
   "source": [
    "### (IMPLEMENTATION) Train and Validate the Model\n",
    "\n",
    "Train and validate your model in the code cell below.  [Save the final model parameters](http://pytorch.org/docs/master/notes/serialization.html) at filepath `'model_scratch.pt'`."
   ]
  },
  {
   "cell_type": "code",
   "execution_count": 14,
   "metadata": {
    "id": "ELyF41YGa0uq"
   },
   "outputs": [],
   "source": [
    "# the following import is required for training to be robust to truncated images\n",
    "import numpy as np\n",
    "from PIL import ImageFile\n",
    "ImageFile.LOAD_TRUNCATED_IMAGES = True\n",
    "\n",
    "def train(n_epochs, loaders, model, optimizer, criterion, use_cuda, save_path):\n",
    "    \"\"\"returns trained model\"\"\"\n",
    "    # initialize tracker for minimum validation loss\n",
    "    valid_loss_min = np.Inf \n",
    "    \n",
    "    for epoch in range(1, n_epochs+1):\n",
    "        # initialize variables to monitor training and validation loss\n",
    "        train_loss = 0.0\n",
    "        valid_loss = 0.0\n",
    "        \n",
    "        ###################\n",
    "        # train the model #\n",
    "        ###################\n",
    "        model.train()\n",
    "        for batch_idx, (data, target) in enumerate(loaders['train']):\n",
    "            # move to GPU\n",
    "            if use_cuda:\n",
    "                data, target = data.cuda(), target.cuda()\n",
    "            \n",
    "            # zero the gradients accumulated from the previous backward propagation steps,\n",
    "            # make prediction, calculate the training loss, perform backpropagation, \n",
    "            # and finally update model weights and biases.\n",
    "            optimizer.zero_grad()\n",
    "            output = model(data)\n",
    "            loss = criterion( output, target)\n",
    "            loss.backward()\n",
    "            optimizer.step()\n",
    "            \n",
    "            # record the average training loss, using something like\n",
    "            # train_loss = train_loss + ((1 / (batch_idx + 1)) * (loss.data - train_loss))\n",
    "            train_loss = train_loss + ((1 / (batch_idx + 1)) * (loss.data - train_loss))\n",
    "        \n",
    "        ######################    \n",
    "        # validate the model #\n",
    "        ######################\n",
    "        # switch model to evalution mode and disable gradient calculations to reduce memory usage\n",
    "        # and speed up computations since no backpropagation is needed in evaluation.\n",
    "        model.eval()\n",
    "        with torch.no_grad():\n",
    "            for batch_idx, (data, target) in enumerate(loaders['valid']):\n",
    "                # move to GPU\n",
    "                if use_cuda:\n",
    "                    data, target = data.cuda(), target.cuda()\n",
    "\n",
    "                # get prediction from our model, calculate the validation loss\n",
    "                output = model(data)\n",
    "                loss = criterion( output, target)\n",
    "\n",
    "                ## update the average validation loss\n",
    "                valid_loss = valid_loss + ((1 / (batch_idx + 1)) * (loss.data - valid_loss))\n",
    "\n",
    "            # print training/validation statistics \n",
    "            print('Epoch {}: \\tTraining Loss: {:.3f} \\tValidation Loss: {:.3f}'.format(\n",
    "                epoch, train_loss, valid_loss))\n",
    "\n",
    "            ## TODO: save the model if validation loss has decreased\n",
    "            if valid_loss < valid_loss_min:\n",
    "                print('Saving Model...')\n",
    "                valid_loss_min = valid_loss\n",
    "                torch.save(model.state_dict(),save_path)\n",
    "    \n",
    "    # return trained model\n",
    "    return model"
   ]
  },
  {
   "cell_type": "code",
   "execution_count": 15,
   "metadata": {
    "id": "AsxfLM7Sa0ur"
   },
   "outputs": [
    {
     "name": "stdout",
     "output_type": "stream",
     "text": [
      "Epoch 1: \tTraining Loss: 4.856 \tValidation Loss: 4.745\n",
      "Saving Model...\n",
      "Epoch 2: \tTraining Loss: 4.675 \tValidation Loss: 4.502\n",
      "Saving Model...\n",
      "Epoch 3: \tTraining Loss: 4.512 \tValidation Loss: 4.430\n",
      "Saving Model...\n",
      "Epoch 4: \tTraining Loss: 4.380 \tValidation Loss: 4.273\n",
      "Saving Model...\n",
      "Epoch 5: \tTraining Loss: 4.300 \tValidation Loss: 4.203\n",
      "Saving Model...\n",
      "Epoch 6: \tTraining Loss: 4.229 \tValidation Loss: 4.120\n",
      "Saving Model...\n",
      "Epoch 7: \tTraining Loss: 4.164 \tValidation Loss: 4.225\n",
      "Epoch 8: \tTraining Loss: 4.109 \tValidation Loss: 4.029\n",
      "Saving Model...\n",
      "Epoch 9: \tTraining Loss: 4.044 \tValidation Loss: 3.985\n",
      "Saving Model...\n",
      "Epoch 10: \tTraining Loss: 3.969 \tValidation Loss: 3.855\n",
      "Saving Model...\n",
      "Epoch 11: \tTraining Loss: 3.912 \tValidation Loss: 3.845\n",
      "Saving Model...\n",
      "Epoch 12: \tTraining Loss: 3.878 \tValidation Loss: 3.740\n",
      "Saving Model...\n",
      "Epoch 13: \tTraining Loss: 3.786 \tValidation Loss: 3.748\n",
      "Epoch 14: \tTraining Loss: 3.772 \tValidation Loss: 3.739\n",
      "Saving Model...\n",
      "Epoch 15: \tTraining Loss: 3.711 \tValidation Loss: 3.737\n",
      "Saving Model...\n",
      "Epoch 16: \tTraining Loss: 3.641 \tValidation Loss: 3.611\n",
      "Saving Model...\n",
      "Epoch 17: \tTraining Loss: 3.577 \tValidation Loss: 3.595\n",
      "Saving Model...\n",
      "Epoch 18: \tTraining Loss: 3.572 \tValidation Loss: 3.578\n",
      "Saving Model...\n",
      "Epoch 19: \tTraining Loss: 3.514 \tValidation Loss: 3.574\n",
      "Saving Model...\n",
      "Epoch 20: \tTraining Loss: 3.467 \tValidation Loss: 3.477\n",
      "Saving Model...\n",
      "Epoch 21: \tTraining Loss: 3.420 \tValidation Loss: 3.520\n",
      "Epoch 22: \tTraining Loss: 3.392 \tValidation Loss: 3.521\n",
      "Epoch 23: \tTraining Loss: 3.360 \tValidation Loss: 3.476\n",
      "Saving Model...\n",
      "Epoch 24: \tTraining Loss: 3.286 \tValidation Loss: 3.407\n",
      "Saving Model...\n",
      "Epoch 25: \tTraining Loss: 3.234 \tValidation Loss: 3.522\n",
      "Epoch 26: \tTraining Loss: 3.214 \tValidation Loss: 3.440\n",
      "Epoch 27: \tTraining Loss: 3.187 \tValidation Loss: 3.414\n",
      "Epoch 28: \tTraining Loss: 3.117 \tValidation Loss: 3.358\n",
      "Saving Model...\n",
      "Epoch 29: \tTraining Loss: 3.115 \tValidation Loss: 3.335\n",
      "Saving Model...\n",
      "Epoch 30: \tTraining Loss: 3.062 \tValidation Loss: 3.298\n",
      "Saving Model...\n",
      "Epoch 31: \tTraining Loss: 3.054 \tValidation Loss: 3.382\n",
      "Epoch 32: \tTraining Loss: 3.029 \tValidation Loss: 3.347\n",
      "Epoch 33: \tTraining Loss: 2.976 \tValidation Loss: 3.346\n",
      "Epoch 34: \tTraining Loss: 2.924 \tValidation Loss: 3.331\n",
      "Epoch 35: \tTraining Loss: 2.900 \tValidation Loss: 3.283\n",
      "Saving Model...\n",
      "Epoch 36: \tTraining Loss: 2.919 \tValidation Loss: 3.211\n",
      "Saving Model...\n",
      "Epoch 37: \tTraining Loss: 2.873 \tValidation Loss: 3.271\n",
      "Epoch 38: \tTraining Loss: 2.815 \tValidation Loss: 3.280\n",
      "Epoch 39: \tTraining Loss: 2.770 \tValidation Loss: 3.137\n",
      "Saving Model...\n",
      "Epoch 40: \tTraining Loss: 2.783 \tValidation Loss: 3.252\n",
      "Epoch 41: \tTraining Loss: 2.755 \tValidation Loss: 3.271\n",
      "Epoch 42: \tTraining Loss: 2.724 \tValidation Loss: 3.193\n",
      "Epoch 43: \tTraining Loss: 2.691 \tValidation Loss: 3.184\n",
      "Epoch 44: \tTraining Loss: 2.663 \tValidation Loss: 3.199\n",
      "Epoch 45: \tTraining Loss: 2.671 \tValidation Loss: 3.206\n",
      "Epoch 46: \tTraining Loss: 2.629 \tValidation Loss: 3.144\n",
      "Epoch 47: \tTraining Loss: 2.626 \tValidation Loss: 3.188\n",
      "Epoch 48: \tTraining Loss: 2.616 \tValidation Loss: 3.209\n",
      "Epoch 49: \tTraining Loss: 2.580 \tValidation Loss: 3.115\n",
      "Saving Model...\n",
      "Epoch 50: \tTraining Loss: 2.580 \tValidation Loss: 3.314\n"
     ]
    },
    {
     "data": {
      "text/plain": [
       "<All keys matched successfully>"
      ]
     },
     "execution_count": 15,
     "metadata": {},
     "output_type": "execute_result"
    }
   ],
   "source": [
    "# train the model\n",
    "model_scratch = train(50, loaders_scratch, model_scratch, optimizer_scratch, \n",
    "                      criterion_scratch, use_cuda, 'model_scratch.pt')\n",
    "\n",
    "# save model to Google Drive\n",
    "if isColabRunning:\n",
    "    saveToDrive('model_scratch.pt')\n",
    "\n",
    "# load the model that got the best validation accuracy\n",
    "model_scratch.load_state_dict(torch.load('model_scratch.pt'))"
   ]
  },
  {
   "cell_type": "markdown",
   "metadata": {
    "id": "SXSHZ-BSa0ur"
   },
   "source": [
    "### (IMPLEMENTATION) Test the Model\n",
    "\n",
    "Try out your model on the test dataset of dog images.  Use the code cell below to calculate and print the test loss and accuracy.  Ensure that your test accuracy is greater than 10%."
   ]
  },
  {
   "cell_type": "code",
   "execution_count": 16,
   "metadata": {
    "id": "_ogXwn4Sa0us"
   },
   "outputs": [],
   "source": [
    "def test(loaders, model, criterion, use_cuda):\n",
    "\n",
    "    # monitor test loss and accuracy\n",
    "    test_loss = 0.\n",
    "    correct = 0.\n",
    "    total = 0.\n",
    "\n",
    "    model.eval()\n",
    "    for batch_idx, (data, target) in enumerate(loaders['test']):\n",
    "        # move to GPU\n",
    "        if use_cuda:\n",
    "            data, target = data.cuda(), target.cuda()\n",
    "        # forward pass: compute predicted outputs by passing inputs to the model\n",
    "        output = model(data)\n",
    "        # calculate the loss\n",
    "        loss = criterion(output, target)\n",
    "        # update average test loss \n",
    "        test_loss = test_loss + ((1 / (batch_idx + 1)) * (loss.data - test_loss))\n",
    "        # convert output probabilities to predicted class\n",
    "        pred = output.data.max(1, keepdim=True)[1]\n",
    "        # compare predictions to true label\n",
    "        correct += np.sum(np.squeeze(pred.eq(target.data.view_as(pred))).cpu().numpy())\n",
    "        total += data.size(0)\n",
    "            \n",
    "    print('Test Loss: {:.6f}\\n'.format(test_loss))\n",
    "\n",
    "    print('\\nTest Accuracy: %2d%% (%2d/%2d)' % (100. * correct / total, correct, total))"
   ]
  },
  {
   "cell_type": "code",
   "execution_count": 17,
   "metadata": {
    "id": "OnterA7pa0ut"
   },
   "outputs": [
    {
     "name": "stdout",
     "output_type": "stream",
     "text": [
      "Test Loss: 2.923306\n",
      "\n",
      "\n",
      "Test Accuracy: 28% (237/836)\n"
     ]
    }
   ],
   "source": [
    "# call test function    \n",
    "test(loaders_scratch, model_scratch, criterion_scratch, use_cuda)"
   ]
  },
  {
   "cell_type": "markdown",
   "metadata": {
    "id": "nCHq767-a0ut"
   },
   "source": [
    "---\n",
    "<a id='step4'></a>\n",
    "## Step 4: Create a CNN to Classify Dog Breeds (using Transfer Learning)\n",
    "\n",
    "You will now use transfer learning to create a CNN that can identify dog breed from images.  Your CNN must attain at least 60% accuracy on the test set.\n",
    "\n",
    "### (IMPLEMENTATION) Specify Data Loaders for the Dog Dataset\n",
    "\n",
    "Use the code cell below to write three separate [data loaders](http://pytorch.org/docs/master/data.html#torch.utils.data.DataLoader) for the training, validation, and test datasets of dog images (located at `dogImages/train`, `dogImages/valid`, and `dogImages/test`, respectively). \n",
    "\n",
    "If you like, **you are welcome to use the same data loaders from the previous step**, when you created a CNN from scratch."
   ]
  },
  {
   "cell_type": "markdown",
   "metadata": {
    "id": "ZzYPwxCSa0ut"
   },
   "source": [
    ">__Note:__ Previous loaders cannot be re-used because the input image was resized to **256 x 256**, but models trained on ImageNet are **224 x 224**. So we have to start over writing a new loader, *loaders_transfer*.\n"
   ]
  },
  {
   "cell_type": "code",
   "execution_count": 18,
   "metadata": {
    "id": "5KNAm254a0uu"
   },
   "outputs": [],
   "source": [
    "## TODO: Specify data loaders\n",
    "# Note: pretrained models from ImageNet requires input images to be shape (3 x h x w) with h,w >= 224 and \n",
    "#       normalized to mean,std dev as per ImageNet (mean = [0.485, 0.456, 0.406] and std = [0.229, 0.224, 0.225])\n",
    "#\n",
    "# Reference: https://pytorch.org/vision/stable/models.html\n",
    "import os\n",
    "from torchvision import datasets, transforms\n",
    "from torch.utils.data import DataLoader\n",
    "\n",
    "## Specify appropriate transforms, and batch_sizes\n",
    "root_dir = 'dogImages/'\n",
    "train_dir = os.path.join(root_dir, 'train')\n",
    "valid_dir = os.path.join(root_dir, 'valid')\n",
    "test_dir = os.path.join(root_dir, 'test')\n",
    "# ResNet input image size\n",
    "IMG_SIZE = 224\n",
    "# mean and std deviation of models trained on Imagenet dataset\n",
    "mean = [0.485, 0.456, 0.406]\n",
    "std_dev = [0.229, 0.224, 0.225]\n",
    "\n",
    "# Data augmentation to create a variety of test images so the model learn to generalize better.\n",
    "# Output is a tensor.\n",
    "preprocess_train = transforms.Compose([\n",
    "                                    transforms.RandomResizedCrop(IMG_SIZE),\n",
    "                                    transforms.RandomRotation(20),\n",
    "                                    transforms.RandomHorizontalFlip(),\n",
    "                                    transforms.ToTensor(),\n",
    "                                    transforms.Normalize( mean, std_dev)\n",
    "                                    ])\n",
    "\n",
    "# Data augmentation is not performed on validation and test datasets because the goal is not to create more data,\n",
    "# but to resize and crop the images to the same size as the input image.\n",
    "# Output is a tensor.\n",
    "preprocess_valid_test = transforms.Compose([\n",
    "                                    transforms.Resize(256),\n",
    "                                    transforms.CenterCrop(IMG_SIZE),\n",
    "                                    transforms.ToTensor(),\n",
    "                                    transforms.Normalize( mean, std_dev)\n",
    "                                    ])\n",
    "\n",
    "train_dataset = datasets.ImageFolder(train_dir, transform=preprocess_train)\n",
    "valid_dataset = datasets.ImageFolder(valid_dir, transform=preprocess_valid_test)\n",
    "test_dataset = datasets.ImageFolder(test_dir, transform=preprocess_valid_test)\n",
    "\n",
    "BATCH_SIZE = 64\n",
    "train_loader = DataLoader(train_dataset, batch_size=BATCH_SIZE, shuffle=True)\n",
    "valid_loader = DataLoader(valid_dataset, batch_size=BATCH_SIZE, shuffle=False)\n",
    "test_loader = DataLoader(test_dataset, batch_size=BATCH_SIZE, shuffle=False)\n",
    "\n",
    "loaders_transfer = { 'train':train_loader, 'valid':valid_loader, 'test':test_loader }"
   ]
  },
  {
   "cell_type": "markdown",
   "metadata": {
    "id": "_hVlRBBya0uu"
   },
   "source": [
    "### (IMPLEMENTATION) Model Architecture\n",
    "\n",
    "Use transfer learning to create a CNN to classify dog breed.  Use the code cell below, and save your initialized model as the variable `model_transfer`."
   ]
  },
  {
   "cell_type": "code",
   "execution_count": 19,
   "metadata": {
    "id": "u6BxMI9Xa0uv",
    "outputId": "1e9354db-af3a-43cf-a9b7-3cdf3e106e0d"
   },
   "outputs": [
    {
     "name": "stderr",
     "output_type": "stream",
     "text": [
      "Downloading: \"https://download.pytorch.org/models/resnet152-b121ed2d.pth\" to /home/ec2-user/.cache/torch/checkpoints/resnet152-b121ed2d.pth\n"
     ]
    },
    {
     "data": {
      "application/vnd.jupyter.widget-view+json": {
       "model_id": "5e98b040c0674eabbc12f4bdaffeefc0",
       "version_major": 2,
       "version_minor": 0
      },
      "text/plain": [
       "  0%|          | 0.00/230M [00:00<?, ?B/s]"
      ]
     },
     "metadata": {},
     "output_type": "display_data"
    },
    {
     "name": "stdout",
     "output_type": "stream",
     "text": [
      "ResNet-152 last fc layer: Linear(in_features=2048, out_features=1000, bias=True)\n",
      "Our fc layer: Linear(in_features=2048, out_features=133, bias=True)\n"
     ]
    }
   ],
   "source": [
    "import torch\n",
    "import torchvision.models as models\n",
    "import torch.nn as nn\n",
    "\n",
    "# Using feature extraction approach\n",
    "# =================================\n",
    "# Freeze the weights for all of the network except the final fully connected(FC) layer.\n",
    "# This last FC layer is replaced with a new one with random weights and only this layer is trained.\n",
    "# https://pytorch.org/tutorials/beginner/finetuning_torchvision_models_tutorial.html#initialize-and-reshape-the-networks\n",
    "\n",
    "# ResNet 152-layer model\n",
    "model_transfer = models.resnet152(pretrained=True)\n",
    "\n",
    "# Freeze the pre-trained weights,biases of all layers at first so it doesn't get updated during re-training\n",
    "for param in model_transfer.parameters():\n",
    "    param.requires_grad = False\n",
    "\n",
    "# Get the number of input features in the last FC layer\n",
    "# Reinitialize output features to number of dog breed classes\n",
    "input_features = model_transfer.fc.in_features\n",
    "DOG_BREEDS_NUM = 133\n",
    "model_transfer.fc = nn.Linear(input_features, DOG_BREEDS_NUM)\n",
    "\n",
    "print(\"ResNet-152 last fc layer:\", models.resnet152().fc)\n",
    "print(\"Our fc layer:\", model_transfer.fc)\n",
    "\n",
    "use_cuda = torch.cuda.is_available()\n",
    "if use_cuda:\n",
    "    model_transfer = model_transfer.cuda()"
   ]
  },
  {
   "cell_type": "markdown",
   "metadata": {
    "id": "4B3d8dNua0uw"
   },
   "source": [
    "__Question 5:__ Outline the steps you took to get to your final CNN architecture and your reasoning at each step.  Describe why you think the architecture is suitable for the current problem."
   ]
  },
  {
   "cell_type": "markdown",
   "metadata": {
    "id": "8U5Al6zea0ux"
   },
   "source": [
    "__Answer:__\n",
    "From [PyTorch website](https://pytorch.org/vision/stable/models.html), ResNet152 has the lowest Top-1 and Top-5 errors among all the ResNet architectures. Also, the model has very good accuracy with a deep 152 hidden layers. Since it is pre-trained on ImageNet, which contains dog breed classes, the model is a pretty good candidate for our use case.\n"
   ]
  },
  {
   "cell_type": "markdown",
   "metadata": {
    "id": "aAZItnAca0ux"
   },
   "source": [
    "### (IMPLEMENTATION) Specify Loss Function and Optimizer\n",
    "\n",
    "Use the next code cell to specify a [loss function](http://pytorch.org/docs/master/nn.html#loss-functions) and [optimizer](http://pytorch.org/docs/master/optim.html).  Save the chosen loss function as `criterion_transfer`, and the optimizer as `optimizer_transfer` below."
   ]
  },
  {
   "cell_type": "code",
   "execution_count": 20,
   "metadata": {
    "id": "1hIyw93ma0uy"
   },
   "outputs": [],
   "source": [
    "# use same as before\n",
    "import torch.optim as optim\n",
    "\n",
    "criterion_transfer = nn.CrossEntropyLoss()\n",
    "optimizer_transfer = optim.Adam( model_transfer.parameters(), lr=0.001 )"
   ]
  },
  {
   "cell_type": "markdown",
   "metadata": {
    "id": "WQ9lRNKBa0uy"
   },
   "source": [
    "### (IMPLEMENTATION) Train and Validate the Model\n",
    "\n",
    "Train and validate your model in the code cell below.  [Save the final model parameters](http://pytorch.org/docs/master/notes/serialization.html) at filepath `'model_transfer.pt'`."
   ]
  },
  {
   "cell_type": "code",
   "execution_count": 21,
   "metadata": {
    "id": "7ZxbRqLLa0uz"
   },
   "outputs": [
    {
     "name": "stdout",
     "output_type": "stream",
     "text": [
      "Epoch 1: \tTraining Loss: 2.821 \tValidation Loss: 0.956\n",
      "Saving Model...\n",
      "Epoch 2: \tTraining Loss: 1.358 \tValidation Loss: 0.596\n",
      "Saving Model...\n",
      "Epoch 3: \tTraining Loss: 1.126 \tValidation Loss: 0.551\n",
      "Saving Model...\n",
      "Epoch 4: \tTraining Loss: 1.019 \tValidation Loss: 0.431\n",
      "Saving Model...\n",
      "Epoch 5: \tTraining Loss: 0.963 \tValidation Loss: 0.430\n",
      "Saving Model...\n",
      "Epoch 6: \tTraining Loss: 0.929 \tValidation Loss: 0.446\n",
      "Epoch 7: \tTraining Loss: 0.878 \tValidation Loss: 0.404\n",
      "Saving Model...\n",
      "Epoch 8: \tTraining Loss: 0.855 \tValidation Loss: 0.417\n",
      "Epoch 9: \tTraining Loss: 0.847 \tValidation Loss: 0.414\n",
      "Epoch 10: \tTraining Loss: 0.857 \tValidation Loss: 0.386\n",
      "Saving Model...\n",
      "Epoch 11: \tTraining Loss: 0.805 \tValidation Loss: 0.403\n",
      "Epoch 12: \tTraining Loss: 0.815 \tValidation Loss: 0.396\n",
      "Epoch 13: \tTraining Loss: 0.816 \tValidation Loss: 0.382\n",
      "Saving Model...\n",
      "Epoch 14: \tTraining Loss: 0.743 \tValidation Loss: 0.370\n",
      "Saving Model...\n",
      "Epoch 15: \tTraining Loss: 0.798 \tValidation Loss: 0.376\n",
      "Epoch 16: \tTraining Loss: 0.762 \tValidation Loss: 0.361\n",
      "Saving Model...\n",
      "Epoch 17: \tTraining Loss: 0.734 \tValidation Loss: 0.392\n",
      "Epoch 18: \tTraining Loss: 0.744 \tValidation Loss: 0.353\n",
      "Saving Model...\n",
      "Epoch 19: \tTraining Loss: 0.764 \tValidation Loss: 0.374\n",
      "Epoch 20: \tTraining Loss: 0.753 \tValidation Loss: 0.368\n",
      "Epoch 21: \tTraining Loss: 0.732 \tValidation Loss: 0.346\n",
      "Saving Model...\n",
      "Epoch 22: \tTraining Loss: 0.726 \tValidation Loss: 0.358\n",
      "Epoch 23: \tTraining Loss: 0.737 \tValidation Loss: 0.374\n",
      "Epoch 24: \tTraining Loss: 0.740 \tValidation Loss: 0.329\n",
      "Saving Model...\n",
      "Epoch 25: \tTraining Loss: 0.704 \tValidation Loss: 0.335\n",
      "Epoch 26: \tTraining Loss: 0.710 \tValidation Loss: 0.369\n",
      "Epoch 27: \tTraining Loss: 0.686 \tValidation Loss: 0.400\n",
      "Epoch 28: \tTraining Loss: 0.731 \tValidation Loss: 0.373\n",
      "Epoch 29: \tTraining Loss: 0.682 \tValidation Loss: 0.384\n",
      "Epoch 30: \tTraining Loss: 0.688 \tValidation Loss: 0.362\n",
      "Epoch 31: \tTraining Loss: 0.717 \tValidation Loss: 0.401\n",
      "Epoch 32: \tTraining Loss: 0.677 \tValidation Loss: 0.379\n",
      "Epoch 33: \tTraining Loss: 0.666 \tValidation Loss: 0.359\n",
      "Epoch 34: \tTraining Loss: 0.678 \tValidation Loss: 0.359\n",
      "Epoch 35: \tTraining Loss: 0.693 \tValidation Loss: 0.390\n",
      "Epoch 36: \tTraining Loss: 0.688 \tValidation Loss: 0.391\n",
      "Epoch 37: \tTraining Loss: 0.687 \tValidation Loss: 0.381\n",
      "Epoch 38: \tTraining Loss: 0.666 \tValidation Loss: 0.366\n",
      "Epoch 39: \tTraining Loss: 0.699 \tValidation Loss: 0.366\n",
      "Epoch 40: \tTraining Loss: 0.665 \tValidation Loss: 0.344\n"
     ]
    },
    {
     "data": {
      "text/plain": [
       "<All keys matched successfully>"
      ]
     },
     "execution_count": 21,
     "metadata": {},
     "output_type": "execute_result"
    }
   ],
   "source": [
    "# train the model\n",
    "n_epochs = 40\n",
    "model_transfer = train(n_epochs, loaders_transfer, model_transfer, optimizer_transfer, criterion_transfer, use_cuda, 'model_transfer.pt')\n",
    "\n",
    "# save model to Google Drive\n",
    "if isColabRunning:\n",
    "    saveToDrive('model_transfer.pt')\n",
    "\n",
    "# load the model that got the best validation accuracy (uncomment the line below)\n",
    "model_transfer.load_state_dict(torch.load('model_transfer.pt'))"
   ]
  },
  {
   "cell_type": "markdown",
   "metadata": {
    "id": "Xl2BY5FQa0uz"
   },
   "source": [
    "### (IMPLEMENTATION) Test the Model\n",
    "\n",
    "Try out your model on the test dataset of dog images. Use the code cell below to calculate and print the test loss and accuracy.  Ensure that your test accuracy is greater than 60%."
   ]
  },
  {
   "cell_type": "code",
   "execution_count": 22,
   "metadata": {
    "id": "OKJp4enYa0uz"
   },
   "outputs": [
    {
     "name": "stdout",
     "output_type": "stream",
     "text": [
      "Test Loss: 0.396706\n",
      "\n",
      "\n",
      "Test Accuracy: 87% (733/836)\n"
     ]
    }
   ],
   "source": [
    "test(loaders_transfer, model_transfer, criterion_transfer, use_cuda)"
   ]
  },
  {
   "cell_type": "markdown",
   "metadata": {
    "id": "b3jEkAVPa0uz"
   },
   "source": [
    "### (IMPLEMENTATION) Predict Dog Breed with the Model\n",
    "\n",
    "Write a function that takes an image path as input and returns the dog breed (`Affenpinscher`, `Afghan hound`, etc) that is predicted by your model.  "
   ]
  },
  {
   "cell_type": "code",
   "execution_count": 60,
   "metadata": {
    "id": "vhKeC8PUa0u1"
   },
   "outputs": [],
   "source": [
    "### TODO: Write a function that takes a path to an image as input\n",
    "### and returns the dog breed that is predicted by the model.\n",
    "from PIL import Image\n",
    "import torchvision.transforms as transforms\n",
    "import torch\n",
    "  \n",
    "# list of class names by index, i.e. a name can be accessed like class_names[0]\n",
    "class_names = [item[4:].replace(\"_\", \" \") for item in loaders_transfer['train'].dataset.classes]\n",
    "\n",
    "def predict_breed_transfer(img_path):\n",
    "    # load the image and return the predicted breed\n",
    "    image = Image.open(img_path).convert(mode='RGB')\n",
    "    IMAGE_SIZE = 224\n",
    "    # preprocess the image using transform\n",
    "    prediction_transform = transforms.Compose([\n",
    "                                        transforms.Resize(256),\n",
    "                                        transforms.CenterCrop(IMAGE_SIZE),\n",
    "                                        transforms.ToTensor(),\n",
    "                                        transforms.Normalize(mean=[0.485, 0.456, 0.406],\n",
    "                                                             std=[0.229, 0.224, 0.225] )\n",
    "                                        ])\n",
    "    image_tensor = prediction_transform(image).unsqueeze(0)\n",
    "    # move to GPU\n",
    "    if use_cuda:\n",
    "        image_tensor = image_tensor.cuda()\n",
    "    \n",
    "    # set to evaluation mode for inferencing\n",
    "    model_transfer.eval()\n",
    "    idx = torch.argmax(model_transfer(image_tensor))\n",
    "    return class_names[idx]"
   ]
  },
  {
   "cell_type": "markdown",
   "metadata": {
    "id": "uoCv2xYSa0u2"
   },
   "source": [
    "---\n",
    "<a id='step5'></a>\n",
    "## Step 5: Write your Algorithm\n",
    "\n",
    "Write an algorithm that accepts a file path to an image and first determines whether the image contains a human, dog, or neither.  Then,\n",
    "- if a __dog__ is detected in the image, return the predicted breed.\n",
    "- if a __human__ is detected in the image, return the resembling dog breed.\n",
    "- if __neither__ is detected in the image, provide output that indicates an error.\n",
    "\n",
    "You are welcome to write your own functions for detecting humans and dogs in images, but feel free to use the `face_detector` and `dog_detector` functions developed above.  You are __required__ to use your CNN from Step 4 to predict dog breed.  \n",
    "\n",
    "Some sample output for our algorithm is provided below, but feel free to design your own user experience!\n",
    "\n",
    "![Sample Human Output](https://github.com/reedemus/dog_breed_classifier/blob/transfer-learning/images/sample_human_output.png?raw=1)\n",
    "\n",
    "\n",
    "### (IMPLEMENTATION) Write your Algorithm"
   ]
  },
  {
   "cell_type": "code",
   "execution_count": 61,
   "metadata": {
    "id": "353cW-uHa0u2"
   },
   "outputs": [],
   "source": [
    "### TODO: Write your algorithm.\n",
    "### Feel free to use as many code cells as needed.\n",
    "def run_app(img_path):\n",
    "    humanFound = False\n",
    "    dogFound = False\n",
    "    \n",
    "    ## handle cases for a human face, dog, and neither\n",
    "    if face_detector(img_path):\n",
    "        humanFound = True\n",
    "    if dog_detector(img_path):\n",
    "        dogFound = True\n",
    "    \n",
    "    className = predict_breed_transfer(img_path)\n",
    "    if humanFound:\n",
    "        print(\"You are not a dog...but sure looks like a\", className)\n",
    "    elif dogFound:\n",
    "        print(\"I'm guessing your dog is a\", className, \"!\")\n",
    "    else:\n",
    "        print(\"Not a dog or human...what are you?\")"
   ]
  },
  {
   "cell_type": "markdown",
   "metadata": {
    "id": "86J01l-Ma0u3"
   },
   "source": [
    "---\n",
    "<a id='step6'></a>\n",
    "## Step 6: Test Your Algorithm\n",
    "\n",
    "In this section, you will take your new algorithm for a spin!  What kind of dog does the algorithm think that _you_ look like?  If you have a dog, does it predict your dog's breed accurately?  If you have a cat, does it mistakenly think that your cat is a dog?\n",
    "\n",
    "### (IMPLEMENTATION) Test Your Algorithm on Sample Images!\n",
    "\n",
    "Test your algorithm at least six images on your computer.  Feel free to use any images you like.  Use at least two human and two dog images.  \n",
    "\n",
    "__Question 6:__ Is the output better than you expected :) ?  Or worse :( ?  Provide at least three possible points of improvement for your algorithm."
   ]
  },
  {
   "cell_type": "markdown",
   "metadata": {
    "id": "7m-f3vJPa0u3"
   },
   "source": [
    "__Answer:__ (Three possible points for improvement)"
   ]
  },
  {
   "cell_type": "code",
   "execution_count": 62,
   "metadata": {
    "id": "ZZ3J-u8na0u4"
   },
   "outputs": [
    {
     "name": "stdout",
     "output_type": "stream",
     "text": [
      "You are not a dog...but sure looks like a English springer spaniel\n",
      "You are not a dog...but sure looks like a Chinese crested\n",
      "You are not a dog...but sure looks like a Canaan dog\n",
      "I'm guessing your dog is a Parson russell terrier !\n",
      "I'm guessing your dog is a Parson russell terrier !\n",
      "Not a dog or human...what are you?\n"
     ]
    }
   ],
   "source": [
    "## TODO: Execute your algorithm from Step 6 on\n",
    "## at least 6 images on your computer.\n",
    "## Feel free to use as many code cells as needed.\n",
    "\n",
    "## suggested code, below\n",
    "for file in np.hstack((human_files[:3], dog_files[:3])):\n",
    "    run_app(file)"
   ]
  },
  {
   "cell_type": "code",
   "execution_count": null,
   "metadata": {},
   "outputs": [],
   "source": []
  }
 ],
 "metadata": {
  "anaconda-cloud": {},
  "colab": {
   "name": "dog_app.ipynb",
   "provenance": []
  },
  "interpreter": {
   "hash": "ac59ebe37160ed0dfa835113d9b8498d9f09ceb179beaac4002f036b9467c963"
  },
  "kernelspec": {
   "display_name": "conda_pytorch_p36",
   "language": "python",
   "name": "conda_pytorch_p36"
  },
  "language_info": {
   "codemirror_mode": {
    "name": "ipython",
    "version": 3
   },
   "file_extension": ".py",
   "mimetype": "text/x-python",
   "name": "python",
   "nbconvert_exporter": "python",
   "pygments_lexer": "ipython3",
   "version": "3.6.13"
  }
 },
 "nbformat": 4,
 "nbformat_minor": 1
}
